{
 "cells": [
  {
   "cell_type": "markdown",
   "metadata": {},
   "source": [
    "# TP 4 : Apprentissage Non Supervisé : Clustering"
   ]
  },
  {
   "cell_type": "markdown",
   "metadata": {},
   "source": [
    "<br><br>"
   ]
  },
  {
   "cell_type": "markdown",
   "metadata": {},
   "source": [
    "# Partie 1 : Données de travail"
   ]
  },
  {
   "cell_type": "code",
   "execution_count": 1,
   "metadata": {
    "scrolled": false
   },
   "outputs": [
    {
     "ename": "SyntaxError",
     "evalue": "invalid character in identifier (<ipython-input-1-0813157637cc>, line 8)",
     "output_type": "error",
     "traceback": [
      "\u001b[1;36m  File \u001b[1;32m\"<ipython-input-1-0813157637cc>\"\u001b[1;36m, line \u001b[1;32m8\u001b[0m\n\u001b[1;33m    jtplot.style(theme=’monokai’, context=’notebook’, ticks=True, grid=False)\u001b[0m\n\u001b[1;37m                               ^\u001b[0m\n\u001b[1;31mSyntaxError\u001b[0m\u001b[1;31m:\u001b[0m invalid character in identifier\n"
     ]
    }
   ],
   "source": [
    "import pandas as pd\n",
    "\n",
    "#Reading the file, assigning the first line and column as header and index and parsing according to tabulations\n",
    "fromage=pd.read_table(\"fromage.txt\",sep=\"\\t\",header=0,index_col=0)\n",
    "#describe gives statistic information about the dataset attributes\n",
    "print(fromage.describe())\n",
    "from jupyterthemes import jtplot\n",
    "jtplot.style(theme=’monokai’, context=’notebook’, ticks=True, grid=False)\n"
   ]
  },
  {
   "cell_type": "code",
   "execution_count": null,
   "metadata": {},
   "outputs": [],
   "source": [
    "#listing dataset attributes\n",
    "print(list(fromage.columns))\n"
   ]
  },
  {
   "cell_type": "code",
   "execution_count": null,
   "metadata": {
    "scrolled": true
   },
   "outputs": [],
   "source": [
    "#croisement 2 à 2 des variables\n",
    "pd.plotting.scatter_matrix(fromage,figsize=(9,9))\n"
   ]
  },
  {
   "cell_type": "markdown",
   "metadata": {},
   "source": [
    "- Dans cette figure, on peut visualiser la répartition de données de chaque attribut en fonction des autres attributs\n",
    "- On remarque que quelques attributs sont plus corrélés avec d'autres"
   ]
  },
  {
   "cell_type": "markdown",
   "metadata": {},
   "source": [
    "<br>"
   ]
  },
  {
   "cell_type": "markdown",
   "metadata": {},
   "source": [
    "# Partie 2 : Methode des centres mobiles (k-means)"
   ]
  },
  {
   "cell_type": "code",
   "execution_count": null,
   "metadata": {
    "scrolled": true
   },
   "outputs": [],
   "source": [
    "import numpy as np\n",
    "from sklearn import cluster\n",
    "\n",
    "# fixing np random results\n",
    "np.random.seed(0)\n",
    "#create the model for 4 centers/clusters\n",
    "kmeans = cluster.KMeans(n_clusters = 4)\n",
    "#fit the model with our dataset : fromage\n",
    "kmeans.fit(fromage)\n",
    "#return indices that would sort the labels\n",
    "idk = np.argsort(kmeans.labels_)\n",
    "\n",
    "\n",
    "\n",
    "#show the label/cluster of each frame\n",
    "kmeansDataFrame = pd.DataFrame(fromage.index[idk],kmeans.labels_[idk])\n",
    "print(kmeansDataFrame)\n",
    "\n",
    "#show the distance to the cluster center for each frame\n",
    "print(kmeans.transform(fromage))"
   ]
  },
  {
   "cell_type": "code",
   "execution_count": 2,
   "metadata": {},
   "outputs": [
    {
     "ename": "NameError",
     "evalue": "name 'kmeans' is not defined",
     "output_type": "error",
     "traceback": [
      "\u001b[1;31m---------------------------------------------------------------------------\u001b[0m",
      "\u001b[1;31mNameError\u001b[0m                                 Traceback (most recent call last)",
      "\u001b[1;32m<ipython-input-2-1e76d4a5380e>\u001b[0m in \u001b[0;36m<module>\u001b[1;34m()\u001b[0m\n\u001b[0;32m      1\u001b[0m \u001b[1;31m# Attributes of cluster centers\u001b[0m\u001b[1;33m\u001b[0m\u001b[1;33m\u001b[0m\u001b[1;33m\u001b[0m\u001b[0m\n\u001b[1;32m----> 2\u001b[1;33m \u001b[0mprint\u001b[0m\u001b[1;33m(\u001b[0m\u001b[0mkmeans\u001b[0m\u001b[1;33m.\u001b[0m\u001b[0mcluster_centers_\u001b[0m\u001b[1;33m)\u001b[0m\u001b[1;33m\u001b[0m\u001b[1;33m\u001b[0m\u001b[0m\n\u001b[0m",
      "\u001b[1;31mNameError\u001b[0m: name 'kmeans' is not defined"
     ]
    }
   ],
   "source": [
    "# Attributes of cluster centers\n",
    "print(kmeans.cluster_centers_)"
   ]
  },
  {
   "cell_type": "markdown",
   "metadata": {},
   "source": [
    "<br>"
   ]
  },
  {
   "cell_type": "markdown",
   "metadata": {},
   "source": [
    "### Aide à la détection du nombre adéquat de groupes"
   ]
  },
  {
   "cell_type": "code",
   "execution_count": null,
   "metadata": {},
   "outputs": [],
   "source": [
    "from sklearn import metrics\n",
    "\n",
    "#utilisation de la métrique \"silhouette\"\n",
    "res = np.arange(9, dtype =\"double\")\n",
    "for k in np.arange(9):\n",
    "    #cluster number ranging 2:10\n",
    "    km = cluster.KMeans(n_clusters = k+2)\n",
    "    #fitting the model\n",
    "    km.fit(fromage)\n",
    "    #silouhette score for choosing cluster number k\n",
    "    res[k] = metrics.silhouette_score(fromage,km.labels_)\n",
    "print (res)\n",
    "\n",
    "\n",
    "#graphique\n",
    "import matplotlib.pyplot as plt\n",
    "\n",
    "plt.title(\"silhouette\")\n",
    "plt.xlabel(\"number of clusters\")\n",
    "plt.plot(np.arange(2,11,1),(res))\n",
    "plt.show\n"
   ]
  },
  {
   "cell_type": "markdown",
   "metadata": {},
   "source": [
    "- Selon la métrique silhouette, le meilleur nombre de clusters à choisir est 2 puisque le score est le plus élévé"
   ]
  },
  {
   "cell_type": "markdown",
   "metadata": {},
   "source": [
    "<br>"
   ]
  },
  {
   "cell_type": "markdown",
   "metadata": {},
   "source": [
    "# Partie 3 : Classification ascendante hiérarchique"
   ]
  },
  {
   "cell_type": "code",
   "execution_count": null,
   "metadata": {
    "scrolled": true
   },
   "outputs": [],
   "source": [
    "import pandas\n",
    "import numpy as np\n",
    "\n",
    "\n",
    "#librairies pour la CAH\n",
    "from matplotlib import pyplot as plt\n",
    "from scipy.cluster.hierarchy import dendrogram, linkage, fcluster\n",
    "Z = linkage(fromage,method='ward', metric='euclidean')\n",
    "\n",
    "#affichage du dendrogramme\n",
    "plt.title(\"CAH\")\n",
    "plt.title('CAH avec matérialisation des 4 classes')\n",
    "#Create the dendrogram of the clustering\n",
    "dendrogram(Z,labels=fromage.index,orientation='left',color_threshold=255)\n",
    "plt.show() \n",
    "\n",
    "#Forms flat clusters from the hierarchical clustering : shows the order of clustering hierarchy \n",
    "groupes_cah = fcluster(Z, t = 255,criterion='distance')\n",
    "print(groupes_cah)\n",
    "\n",
    "#index triés des groupes\n",
    "idg = np.argsort(groupes_cah)\n",
    "\n",
    "#affichage des observations et leurs groupes\n",
    "cahDataFrame = pandas.DataFrame(fromage.index[idg],groupes_cah[idg])\n",
    "print(cahDataFrame)"
   ]
  },
  {
   "cell_type": "markdown",
   "metadata": {},
   "source": [
    "- 2/ En Analysant l'arboresence, on remarque qu'il existe 4 clusters, ce qui est confirmé par le resultat de methode fcluster"
   ]
  },
  {
   "cell_type": "markdown",
   "metadata": {},
   "source": [
    "<br>"
   ]
  },
  {
   "cell_type": "code",
   "execution_count": null,
   "metadata": {},
   "outputs": [],
   "source": [
    "pd.crosstab(kmeansDataFrame.index,[cahDataFrame['Fromages'].tolist(),kmeansDataFrame['Fromages'].tolist()])\n"
   ]
  },
  {
   "cell_type": "markdown",
   "metadata": {},
   "source": [
    "<br><br>\n",
    "# Partie 4 : Interprétation des classes"
   ]
  },
  {
   "cell_type": "code",
   "execution_count": null,
   "metadata": {},
   "outputs": [],
   "source": [
    "from sklearn.decomposition import PCA\n",
    "\n",
    "#fitting the model for PCA with 4 clusters\n",
    "km = cluster.KMeans(n_clusters = 4)\n",
    "km.fit(fromage)\n",
    "acp = PCA(n_components =2).fit_transform(fromage)\n",
    "\n",
    "#plotting the results\n",
    "for couleur,k in zip(['red','blue','lawngreen', 'aqua'],[0,1,2,3]):\n",
    "    plt.scatter(acp[km.labels_==k,0],acp[km.labels_==k,1],c=couleur)\n",
    "plt.show()"
   ]
  },
  {
   "cell_type": "markdown",
   "metadata": {},
   "source": [
    "- Selon l'analyse en composanted principales, les données sont réparties en 4 clusters distinctes"
   ]
  },
  {
   "cell_type": "markdown",
   "metadata": {},
   "source": [
    "### 2. AgglomerativeClustering"
   ]
  },
  {
   "cell_type": "code",
   "execution_count": null,
   "metadata": {},
   "outputs": [],
   "source": [
    "\n",
    "from sklearn.cluster import AgglomerativeClustering\n",
    "\n",
    "def plot_dendrogram(model, **kwargs):\n",
    "\n",
    "    # Children of hierarchical clustering\n",
    "    children = model.children_\n",
    "\n",
    "    # Distances between each pair of children\n",
    "    # Since we don't have this information, we can use a uniform one for plotting\n",
    "    distance = np.arange(children.shape[0])\n",
    "\n",
    "    # The number of observations contained in each cluster level\n",
    "    no_of_observations = np.arange(2, children.shape[0]+2)\n",
    "\n",
    "    # Create linkage matrix and then plot the dendrogram\n",
    "    linkage_matrix = np.column_stack([children, distance, no_of_observations]).astype(float)\n",
    "\n",
    "    # Plot the corresponding dendrogram\n",
    "    dendrogram(linkage_matrix, **kwargs)\n",
    "\n",
    "\n",
    "model = AgglomerativeClustering(n_clusters=4)\n",
    "\n",
    "model = model.fit(fromage.values)\n",
    "plt.figure(figsize=(9,9))\n",
    "plt.title('Hierarchical Clustering Dendrogram')\n",
    "plot_dendrogram(model, labels=fromage.index,orientation='left')\n",
    "plt.show()"
   ]
  },
  {
   "cell_type": "markdown",
   "metadata": {},
   "source": [
    "- La methode AgglomerativeClustering nous fournit le même résultat que la methode CAH clustering de scipy : on obtient le même dendrogramme divisé principalement en 4 clusters"
   ]
  },
  {
   "cell_type": "markdown",
   "metadata": {},
   "source": [
    "<br>\n",
    "### 3. Divisive clustering"
   ]
  },
  {
   "cell_type": "markdown",
   "metadata": {},
   "source": [
    "Afin de réaliser un clustering hiérarchique descendant en utilisant k-means on effectue les étapes suivantes:\n",
    "\n"
   ]
  },
  {
   "cell_type": "code",
   "execution_count": null,
   "metadata": {},
   "outputs": [],
   "source": [
    "from sklearn import cluster\n",
    "import random\n",
    "\n",
    "#Kmeans with 2 clusters\n",
    "kmeans = cluster.KMeans(n_clusters = 2)\n",
    "\n",
    "def Divisive_clustering(df):\n",
    "    \n",
    "    if(len(df.index) < 2):\n",
    "        return 1\n",
    "    else:\n",
    "        \n",
    "        # 1 . Clustering of data frame into 2 clusters\n",
    "        kmeans.fit(df)\n",
    "        \n",
    "        # 2 . Adding clusters column to the dataframe\n",
    "        cluster = pd.DataFrame({'cluster': list(map(int, kmeans.labels_))})\n",
    "        df['cluster'] = list(map(int, kmeans.labels_))\n",
    "        \n",
    "        # 3 . Creating 2 dataframes each containing data belonging to a cluster\n",
    "        df0 = df.loc[df['cluster'] == 0]\n",
    "        df1 = df.loc[df['cluster'] == 1]\n",
    "        \n",
    "        #Output\n",
    "        print('*****************************************************************************')\n",
    "        randomcolor = random.choice(['grey','blue','magenta','green','red'])\n",
    "        print(colored(df0.index,randomcolor))\n",
    "        print(colored(df1.index,randomcolor))\n",
    "        \n",
    "        # 4 . Removing the cluster column to perform a fitting for the 2 subset dataframes\n",
    "        df0 = df0.iloc[:,0:9]\n",
    "        df1 = df0.iloc[:,0:9]\n",
    "        \n",
    "        # 5 . Recursive Call for both extracted dataframes\n",
    "        Divisive_clustering(df0)\n",
    "        Divisive_clustering(df1)\n",
    "        \n",
    "        return 1\n",
    "        "
   ]
  },
  {
   "cell_type": "code",
   "execution_count": null,
   "metadata": {},
   "outputs": [],
   "source": [
    "Divisive_clustering(fromage)"
   ]
  },
  {
   "cell_type": "code",
   "execution_count": null,
   "metadata": {},
   "outputs": [],
   "source": []
  },
  {
   "cell_type": "code",
   "execution_count": null,
   "metadata": {},
   "outputs": [],
   "source": []
  },
  {
   "cell_type": "code",
   "execution_count": null,
   "metadata": {},
   "outputs": [],
   "source": []
  }
 ],
 "metadata": {
  "kernelspec": {
   "display_name": "Python 3",
   "language": "python",
   "name": "python3"
  },
  "language_info": {
   "codemirror_mode": {
    "name": "ipython",
    "version": 3
   },
   "file_extension": ".py",
   "mimetype": "text/x-python",
   "name": "python",
   "nbconvert_exporter": "python",
   "pygments_lexer": "ipython3",
   "version": "3.6.10"
  }
 },
 "nbformat": 4,
 "nbformat_minor": 2
}
